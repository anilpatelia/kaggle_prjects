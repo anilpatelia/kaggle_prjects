{
 "cells": [
  {
   "cell_type": "code",
   "execution_count": 2,
   "id": "4b9ee909",
   "metadata": {},
   "outputs": [],
   "source": [
    "import pandas as pd"
   ]
  },
  {
   "cell_type": "code",
   "execution_count": 4,
   "id": "b14459d0",
   "metadata": {},
   "outputs": [],
   "source": [
    "credit_df = pd.read_csv('Credit_default_dataset.csv')"
   ]
  },
  {
   "cell_type": "code",
   "execution_count": 5,
   "id": "26cf66d1",
   "metadata": {},
   "outputs": [],
   "source": [
    "credit_df = credit_df.drop(\"ID\", axis=1)\n"
   ]
  },
  {
   "cell_type": "code",
   "execution_count": 6,
   "id": "50aced55",
   "metadata": {},
   "outputs": [
    {
     "data": {
      "text/html": [
       "<div>\n",
       "<style scoped>\n",
       "    .dataframe tbody tr th:only-of-type {\n",
       "        vertical-align: middle;\n",
       "    }\n",
       "\n",
       "    .dataframe tbody tr th {\n",
       "        vertical-align: top;\n",
       "    }\n",
       "\n",
       "    .dataframe thead th {\n",
       "        text-align: right;\n",
       "    }\n",
       "</style>\n",
       "<table border=\"1\" class=\"dataframe\">\n",
       "  <thead>\n",
       "    <tr style=\"text-align: right;\">\n",
       "      <th></th>\n",
       "      <th>LIMIT_BAL</th>\n",
       "      <th>SEX</th>\n",
       "      <th>EDUCATION</th>\n",
       "      <th>MARRIAGE</th>\n",
       "      <th>AGE</th>\n",
       "      <th>PAY_0</th>\n",
       "      <th>PAY_2</th>\n",
       "      <th>PAY_3</th>\n",
       "      <th>PAY_4</th>\n",
       "      <th>PAY_5</th>\n",
       "      <th>...</th>\n",
       "      <th>BILL_AMT4</th>\n",
       "      <th>BILL_AMT5</th>\n",
       "      <th>BILL_AMT6</th>\n",
       "      <th>PAY_AMT1</th>\n",
       "      <th>PAY_AMT2</th>\n",
       "      <th>PAY_AMT3</th>\n",
       "      <th>PAY_AMT4</th>\n",
       "      <th>PAY_AMT5</th>\n",
       "      <th>PAY_AMT6</th>\n",
       "      <th>default.payment.next.month</th>\n",
       "    </tr>\n",
       "  </thead>\n",
       "  <tbody>\n",
       "    <tr>\n",
       "      <th>0</th>\n",
       "      <td>20000.0</td>\n",
       "      <td>2</td>\n",
       "      <td>2</td>\n",
       "      <td>1</td>\n",
       "      <td>24</td>\n",
       "      <td>2</td>\n",
       "      <td>2</td>\n",
       "      <td>-1</td>\n",
       "      <td>-1</td>\n",
       "      <td>-2</td>\n",
       "      <td>...</td>\n",
       "      <td>0.0</td>\n",
       "      <td>0.0</td>\n",
       "      <td>0.0</td>\n",
       "      <td>0.0</td>\n",
       "      <td>689.0</td>\n",
       "      <td>0.0</td>\n",
       "      <td>0.0</td>\n",
       "      <td>0.0</td>\n",
       "      <td>0.0</td>\n",
       "      <td>1</td>\n",
       "    </tr>\n",
       "    <tr>\n",
       "      <th>1</th>\n",
       "      <td>120000.0</td>\n",
       "      <td>2</td>\n",
       "      <td>2</td>\n",
       "      <td>2</td>\n",
       "      <td>26</td>\n",
       "      <td>-1</td>\n",
       "      <td>2</td>\n",
       "      <td>0</td>\n",
       "      <td>0</td>\n",
       "      <td>0</td>\n",
       "      <td>...</td>\n",
       "      <td>3272.0</td>\n",
       "      <td>3455.0</td>\n",
       "      <td>3261.0</td>\n",
       "      <td>0.0</td>\n",
       "      <td>1000.0</td>\n",
       "      <td>1000.0</td>\n",
       "      <td>1000.0</td>\n",
       "      <td>0.0</td>\n",
       "      <td>2000.0</td>\n",
       "      <td>1</td>\n",
       "    </tr>\n",
       "    <tr>\n",
       "      <th>2</th>\n",
       "      <td>90000.0</td>\n",
       "      <td>2</td>\n",
       "      <td>2</td>\n",
       "      <td>2</td>\n",
       "      <td>34</td>\n",
       "      <td>0</td>\n",
       "      <td>0</td>\n",
       "      <td>0</td>\n",
       "      <td>0</td>\n",
       "      <td>0</td>\n",
       "      <td>...</td>\n",
       "      <td>14331.0</td>\n",
       "      <td>14948.0</td>\n",
       "      <td>15549.0</td>\n",
       "      <td>1518.0</td>\n",
       "      <td>1500.0</td>\n",
       "      <td>1000.0</td>\n",
       "      <td>1000.0</td>\n",
       "      <td>1000.0</td>\n",
       "      <td>5000.0</td>\n",
       "      <td>0</td>\n",
       "    </tr>\n",
       "    <tr>\n",
       "      <th>3</th>\n",
       "      <td>50000.0</td>\n",
       "      <td>2</td>\n",
       "      <td>2</td>\n",
       "      <td>1</td>\n",
       "      <td>37</td>\n",
       "      <td>0</td>\n",
       "      <td>0</td>\n",
       "      <td>0</td>\n",
       "      <td>0</td>\n",
       "      <td>0</td>\n",
       "      <td>...</td>\n",
       "      <td>28314.0</td>\n",
       "      <td>28959.0</td>\n",
       "      <td>29547.0</td>\n",
       "      <td>2000.0</td>\n",
       "      <td>2019.0</td>\n",
       "      <td>1200.0</td>\n",
       "      <td>1100.0</td>\n",
       "      <td>1069.0</td>\n",
       "      <td>1000.0</td>\n",
       "      <td>0</td>\n",
       "    </tr>\n",
       "    <tr>\n",
       "      <th>4</th>\n",
       "      <td>50000.0</td>\n",
       "      <td>1</td>\n",
       "      <td>2</td>\n",
       "      <td>1</td>\n",
       "      <td>57</td>\n",
       "      <td>-1</td>\n",
       "      <td>0</td>\n",
       "      <td>-1</td>\n",
       "      <td>0</td>\n",
       "      <td>0</td>\n",
       "      <td>...</td>\n",
       "      <td>20940.0</td>\n",
       "      <td>19146.0</td>\n",
       "      <td>19131.0</td>\n",
       "      <td>2000.0</td>\n",
       "      <td>36681.0</td>\n",
       "      <td>10000.0</td>\n",
       "      <td>9000.0</td>\n",
       "      <td>689.0</td>\n",
       "      <td>679.0</td>\n",
       "      <td>0</td>\n",
       "    </tr>\n",
       "  </tbody>\n",
       "</table>\n",
       "<p>5 rows × 24 columns</p>\n",
       "</div>"
      ],
      "text/plain": [
       "   LIMIT_BAL  SEX  EDUCATION  MARRIAGE  AGE  PAY_0  PAY_2  PAY_3  PAY_4  \\\n",
       "0    20000.0    2          2         1   24      2      2     -1     -1   \n",
       "1   120000.0    2          2         2   26     -1      2      0      0   \n",
       "2    90000.0    2          2         2   34      0      0      0      0   \n",
       "3    50000.0    2          2         1   37      0      0      0      0   \n",
       "4    50000.0    1          2         1   57     -1      0     -1      0   \n",
       "\n",
       "   PAY_5  ...  BILL_AMT4  BILL_AMT5  BILL_AMT6  PAY_AMT1  PAY_AMT2  PAY_AMT3  \\\n",
       "0     -2  ...        0.0        0.0        0.0       0.0     689.0       0.0   \n",
       "1      0  ...     3272.0     3455.0     3261.0       0.0    1000.0    1000.0   \n",
       "2      0  ...    14331.0    14948.0    15549.0    1518.0    1500.0    1000.0   \n",
       "3      0  ...    28314.0    28959.0    29547.0    2000.0    2019.0    1200.0   \n",
       "4      0  ...    20940.0    19146.0    19131.0    2000.0   36681.0   10000.0   \n",
       "\n",
       "   PAY_AMT4  PAY_AMT5  PAY_AMT6  default.payment.next.month  \n",
       "0       0.0       0.0       0.0                           1  \n",
       "1    1000.0       0.0    2000.0                           1  \n",
       "2    1000.0    1000.0    5000.0                           0  \n",
       "3    1100.0    1069.0    1000.0                           0  \n",
       "4    9000.0     689.0     679.0                           0  \n",
       "\n",
       "[5 rows x 24 columns]"
      ]
     },
     "execution_count": 6,
     "metadata": {},
     "output_type": "execute_result"
    }
   ],
   "source": [
    "credit_df.head()"
   ]
  },
  {
   "cell_type": "code",
   "execution_count": 7,
   "id": "f24ec6a5",
   "metadata": {},
   "outputs": [],
   "source": [
    "credit_df.rename(columns={\"Pay_0\":\"Pay_1\"}, inplace=True)"
   ]
  },
  {
   "cell_type": "code",
   "execution_count": 8,
   "id": "9dac79d0",
   "metadata": {},
   "outputs": [],
   "source": [
    "credit_df[\"EDUCATION\"] = credit_df[\"EDUCATION\"].map({0:4, 1:1, 2:2, 3:3, 4:4, 5:4, 6:4})"
   ]
  },
  {
   "cell_type": "code",
   "execution_count": 9,
   "id": "073b37ac",
   "metadata": {},
   "outputs": [],
   "source": [
    "credit_df[\"MARRIAGE\"] = credit_df[\"MARRIAGE\"].map({0:3, 1:1, 2:2, 3:3})"
   ]
  },
  {
   "cell_type": "code",
   "execution_count": 14,
   "id": "1854049f",
   "metadata": {},
   "outputs": [],
   "source": [
    "from sklearn.preprocessing import StandardScaler\n",
    "scaling = StandardScaler()\n",
    "y = credit_df['default.payment.next.month']\n",
    "\n",
    "X = credit_df.drop(['default.payment.next.month'], axis = 1)\n",
    "X = scaling.fit_transform(X)"
   ]
  },
  {
   "cell_type": "code",
   "execution_count": 16,
   "id": "6d9037c8",
   "metadata": {},
   "outputs": [],
   "source": [
    "# Hyper Parameter Optimixation\n",
    "params = {\n",
    "    \"learning_rate\" : [0.05, 0.10, 0.15, 0.20, 0.25, 0.30],\n",
    "    \"max_depth\" : [3, 4, 5, 6, 8, 10, 12, 15],\n",
    "    \"min_child_weight\":[1, 3, 5, 7],\n",
    "    \"gamma\":[ 0.0, 0.1, 0.2, 0.3, 0.4],\n",
    "    \"colsample_bytree\" : [0.3, 0.4, 0.5, 0.7]\n",
    "}"
   ]
  },
  {
   "cell_type": "code",
   "execution_count": 33,
   "id": "fdfa90a3",
   "metadata": {},
   "outputs": [],
   "source": [
    "from sklearn.model_selection import RandomizedSearchCV, GridSearchCV\n",
    "import xgboost"
   ]
  },
  {
   "cell_type": "code",
   "execution_count": 25,
   "id": "94da8ee3",
   "metadata": {},
   "outputs": [],
   "source": [
    "def timer(start_time = None):\n",
    "    if not start_time:\n",
    "        start_time = datetime.now()\n",
    "    else:\n",
    "        thout, temp_sec = divmod((datetime.now() - start_time).total_seconds(), 3600)\n",
    "        tmin, tsec = divmod(temp_sec, 60)\n",
    "        \n",
    "    "
   ]
  },
  {
   "cell_type": "code",
   "execution_count": 34,
   "id": "32d214e6",
   "metadata": {},
   "outputs": [],
   "source": [
    "classifier=xgboost.XGBClassifier()"
   ]
  },
  {
   "cell_type": "code",
   "execution_count": 35,
   "id": "166bd7dd",
   "metadata": {},
   "outputs": [],
   "source": [
    "random_search=RandomizedSearchCV(classifier,param_distributions=params,n_iter=5,scoring='roc_auc',n_jobs=-1,cv=5,verbose=3)"
   ]
  },
  {
   "cell_type": "code",
   "execution_count": 36,
   "id": "516013bf",
   "metadata": {},
   "outputs": [
    {
     "name": "stdout",
     "output_type": "stream",
     "text": [
      "Fitting 5 folds for each of 5 candidates, totalling 25 fits\n"
     ]
    }
   ],
   "source": [
    "from datetime import datetime\n",
    "start_time = timer(None)\n",
    "random_search.fit(X,y)\n",
    "timer(start_time)"
   ]
  },
  {
   "cell_type": "code",
   "execution_count": 37,
   "id": "d5a107cf",
   "metadata": {},
   "outputs": [],
   "source": [
    "classifier=xgboost.XGBClassifier(base_score=0.5, booster='gbtree', colsample_bylevel=1,\n",
    "       colsample_bytree=0.4, gamma=0.1, learning_rate=0.25,\n",
    "       max_delta_step=0, max_depth=3, min_child_weight=7, missing=None,\n",
    "       n_estimators=100, n_jobs=1, nthread=None,\n",
    "       objective='binary:logistic', random_state=0, reg_alpha=0,\n",
    "       reg_lambda=1, scale_pos_weight=1, seed=None, silent=True,\n",
    "       subsample=1)\n"
   ]
  },
  {
   "cell_type": "code",
   "execution_count": null,
   "id": "e2be08df",
   "metadata": {},
   "outputs": [
    {
     "name": "stdout",
     "output_type": "stream",
     "text": [
      "[17:02:23] WARNING: ../src/learner.cc:767: \n",
      "Parameters: { \"silent\" } are not used.\n",
      "\n"
     ]
    },
    {
     "name": "stderr",
     "output_type": "stream",
     "text": [
      "/home/anil/.local/lib/python3.10/site-packages/sklearn/model_selection/_validation.py:794: UserWarning: Scoring failed. The score on this train-test partition for these parameters will be set to nan. Details: \n",
      "Traceback (most recent call last):\n",
      "  File \"/home/anil/.local/lib/python3.10/site-packages/sklearn/metrics/_scorer.py\", line 117, in __call__\n",
      "    score = scorer(estimator, *args, **kwargs)\n",
      "  File \"/home/anil/.local/lib/python3.10/site-packages/sklearn/metrics/_scorer.py\", line 444, in _passthrough_scorer\n",
      "    return estimator.score(*args, **kwargs)\n",
      "  File \"/home/anil/.local/lib/python3.10/site-packages/sklearn/base.py\", line 649, in score\n",
      "    return accuracy_score(y, self.predict(X), sample_weight=sample_weight)\n",
      "  File \"/home/anil/.local/lib/python3.10/site-packages/xgboost/sklearn.py\", line 1525, in predict\n",
      "    class_probs = super().predict(\n",
      "  File \"/home/anil/.local/lib/python3.10/site-packages/xgboost/sklearn.py\", line 1114, in predict\n",
      "    predts = self.get_booster().inplace_predict(\n",
      "  File \"/home/anil/.local/lib/python3.10/site-packages/xgboost/core.py\", line 2292, in inplace_predict\n",
      "    _check_call(\n",
      "  File \"/home/anil/.local/lib/python3.10/site-packages/xgboost/core.py\", line 279, in _check_call\n",
      "    raise XGBoostError(py_str(_LIB.XGBGetLastError()))\n",
      "xgboost.core.XGBoostError: [17:02:24] ../src/c_api/c_api_utils.h:167: Invalid missing value: null\n",
      "Stack trace:\n",
      "  [bt] (0) /home/anil/.local/lib/python3.10/site-packages/xgboost/lib/libxgboost.so(+0x1395a3) [0x7f9ed7f395a3]\n",
      "  [bt] (1) /home/anil/.local/lib/python3.10/site-packages/xgboost/lib/libxgboost.so(+0x164542) [0x7f9ed7f64542]\n",
      "  [bt] (2) /home/anil/.local/lib/python3.10/site-packages/xgboost/lib/libxgboost.so(+0x142122) [0x7f9ed7f42122]\n",
      "  [bt] (3) /home/anil/.local/lib/python3.10/site-packages/xgboost/lib/libxgboost.so(XGBoosterPredictFromDense+0xe7) [0x7f9ed7f426a7]\n",
      "  [bt] (4) /lib/x86_64-linux-gnu/libffi.so.8(+0x7e2e) [0x7f9f44232e2e]\n",
      "  [bt] (5) /lib/x86_64-linux-gnu/libffi.so.8(+0x4493) [0x7f9f4422f493]\n",
      "  [bt] (6) /usr/lib/python3.10/lib-dynload/_ctypes.cpython-310-x86_64-linux-gnu.so(+0xa451) [0x7f9f42fc7451]\n",
      "  [bt] (7) /usr/lib/python3.10/lib-dynload/_ctypes.cpython-310-x86_64-linux-gnu.so(+0x9a68) [0x7f9f42fc6a68]\n",
      "  [bt] (8) /usr/bin/python3(_PyObject_MakeTpCall+0x25b) [0x55c9bd2704ab]\n",
      "\n",
      "\n",
      "\n",
      "  warnings.warn(\n"
     ]
    },
    {
     "name": "stdout",
     "output_type": "stream",
     "text": [
      "[17:02:24] WARNING: ../src/learner.cc:767: \n",
      "Parameters: { \"silent\" } are not used.\n",
      "\n"
     ]
    },
    {
     "name": "stderr",
     "output_type": "stream",
     "text": [
      "/home/anil/.local/lib/python3.10/site-packages/sklearn/model_selection/_validation.py:794: UserWarning: Scoring failed. The score on this train-test partition for these parameters will be set to nan. Details: \n",
      "Traceback (most recent call last):\n",
      "  File \"/home/anil/.local/lib/python3.10/site-packages/sklearn/metrics/_scorer.py\", line 117, in __call__\n",
      "    score = scorer(estimator, *args, **kwargs)\n",
      "  File \"/home/anil/.local/lib/python3.10/site-packages/sklearn/metrics/_scorer.py\", line 444, in _passthrough_scorer\n",
      "    return estimator.score(*args, **kwargs)\n",
      "  File \"/home/anil/.local/lib/python3.10/site-packages/sklearn/base.py\", line 649, in score\n",
      "    return accuracy_score(y, self.predict(X), sample_weight=sample_weight)\n",
      "  File \"/home/anil/.local/lib/python3.10/site-packages/xgboost/sklearn.py\", line 1525, in predict\n",
      "    class_probs = super().predict(\n",
      "  File \"/home/anil/.local/lib/python3.10/site-packages/xgboost/sklearn.py\", line 1114, in predict\n",
      "    predts = self.get_booster().inplace_predict(\n",
      "  File \"/home/anil/.local/lib/python3.10/site-packages/xgboost/core.py\", line 2292, in inplace_predict\n",
      "    _check_call(\n",
      "  File \"/home/anil/.local/lib/python3.10/site-packages/xgboost/core.py\", line 279, in _check_call\n",
      "    raise XGBoostError(py_str(_LIB.XGBGetLastError()))\n",
      "xgboost.core.XGBoostError: [17:02:25] ../src/c_api/c_api_utils.h:167: Invalid missing value: null\n",
      "Stack trace:\n",
      "  [bt] (0) /home/anil/.local/lib/python3.10/site-packages/xgboost/lib/libxgboost.so(+0x1395a3) [0x7f9ed7f395a3]\n",
      "  [bt] (1) /home/anil/.local/lib/python3.10/site-packages/xgboost/lib/libxgboost.so(+0x164542) [0x7f9ed7f64542]\n",
      "  [bt] (2) /home/anil/.local/lib/python3.10/site-packages/xgboost/lib/libxgboost.so(+0x142122) [0x7f9ed7f42122]\n",
      "  [bt] (3) /home/anil/.local/lib/python3.10/site-packages/xgboost/lib/libxgboost.so(XGBoosterPredictFromDense+0xe7) [0x7f9ed7f426a7]\n",
      "  [bt] (4) /lib/x86_64-linux-gnu/libffi.so.8(+0x7e2e) [0x7f9f44232e2e]\n",
      "  [bt] (5) /lib/x86_64-linux-gnu/libffi.so.8(+0x4493) [0x7f9f4422f493]\n",
      "  [bt] (6) /usr/lib/python3.10/lib-dynload/_ctypes.cpython-310-x86_64-linux-gnu.so(+0xa451) [0x7f9f42fc7451]\n",
      "  [bt] (7) /usr/lib/python3.10/lib-dynload/_ctypes.cpython-310-x86_64-linux-gnu.so(+0x9a68) [0x7f9f42fc6a68]\n",
      "  [bt] (8) /usr/bin/python3(_PyObject_MakeTpCall+0x25b) [0x55c9bd2704ab]\n",
      "\n",
      "\n",
      "\n",
      "  warnings.warn(\n"
     ]
    },
    {
     "name": "stdout",
     "output_type": "stream",
     "text": [
      "[17:02:25] WARNING: ../src/learner.cc:767: \n",
      "Parameters: { \"silent\" } are not used.\n",
      "\n"
     ]
    },
    {
     "name": "stderr",
     "output_type": "stream",
     "text": [
      "/home/anil/.local/lib/python3.10/site-packages/sklearn/model_selection/_validation.py:794: UserWarning: Scoring failed. The score on this train-test partition for these parameters will be set to nan. Details: \n",
      "Traceback (most recent call last):\n",
      "  File \"/home/anil/.local/lib/python3.10/site-packages/sklearn/metrics/_scorer.py\", line 117, in __call__\n",
      "    score = scorer(estimator, *args, **kwargs)\n",
      "  File \"/home/anil/.local/lib/python3.10/site-packages/sklearn/metrics/_scorer.py\", line 444, in _passthrough_scorer\n",
      "    return estimator.score(*args, **kwargs)\n",
      "  File \"/home/anil/.local/lib/python3.10/site-packages/sklearn/base.py\", line 649, in score\n",
      "    return accuracy_score(y, self.predict(X), sample_weight=sample_weight)\n",
      "  File \"/home/anil/.local/lib/python3.10/site-packages/xgboost/sklearn.py\", line 1525, in predict\n",
      "    class_probs = super().predict(\n",
      "  File \"/home/anil/.local/lib/python3.10/site-packages/xgboost/sklearn.py\", line 1114, in predict\n",
      "    predts = self.get_booster().inplace_predict(\n",
      "  File \"/home/anil/.local/lib/python3.10/site-packages/xgboost/core.py\", line 2292, in inplace_predict\n",
      "    _check_call(\n",
      "  File \"/home/anil/.local/lib/python3.10/site-packages/xgboost/core.py\", line 279, in _check_call\n",
      "    raise XGBoostError(py_str(_LIB.XGBGetLastError()))\n",
      "xgboost.core.XGBoostError: [17:02:26] ../src/c_api/c_api_utils.h:167: Invalid missing value: null\n",
      "Stack trace:\n",
      "  [bt] (0) /home/anil/.local/lib/python3.10/site-packages/xgboost/lib/libxgboost.so(+0x1395a3) [0x7f9ed7f395a3]\n",
      "  [bt] (1) /home/anil/.local/lib/python3.10/site-packages/xgboost/lib/libxgboost.so(+0x164542) [0x7f9ed7f64542]\n",
      "  [bt] (2) /home/anil/.local/lib/python3.10/site-packages/xgboost/lib/libxgboost.so(+0x142122) [0x7f9ed7f42122]\n",
      "  [bt] (3) /home/anil/.local/lib/python3.10/site-packages/xgboost/lib/libxgboost.so(XGBoosterPredictFromDense+0xe7) [0x7f9ed7f426a7]\n",
      "  [bt] (4) /lib/x86_64-linux-gnu/libffi.so.8(+0x7e2e) [0x7f9f44232e2e]\n",
      "  [bt] (5) /lib/x86_64-linux-gnu/libffi.so.8(+0x4493) [0x7f9f4422f493]\n",
      "  [bt] (6) /usr/lib/python3.10/lib-dynload/_ctypes.cpython-310-x86_64-linux-gnu.so(+0xa451) [0x7f9f42fc7451]\n",
      "  [bt] (7) /usr/lib/python3.10/lib-dynload/_ctypes.cpython-310-x86_64-linux-gnu.so(+0x9a68) [0x7f9f42fc6a68]\n",
      "  [bt] (8) /usr/bin/python3(_PyObject_MakeTpCall+0x25b) [0x55c9bd2704ab]\n",
      "\n",
      "\n",
      "\n",
      "  warnings.warn(\n"
     ]
    },
    {
     "name": "stdout",
     "output_type": "stream",
     "text": [
      "[17:02:26] WARNING: ../src/learner.cc:767: \n",
      "Parameters: { \"silent\" } are not used.\n",
      "\n"
     ]
    },
    {
     "name": "stderr",
     "output_type": "stream",
     "text": [
      "/home/anil/.local/lib/python3.10/site-packages/sklearn/model_selection/_validation.py:794: UserWarning: Scoring failed. The score on this train-test partition for these parameters will be set to nan. Details: \n",
      "Traceback (most recent call last):\n",
      "  File \"/home/anil/.local/lib/python3.10/site-packages/sklearn/metrics/_scorer.py\", line 117, in __call__\n",
      "    score = scorer(estimator, *args, **kwargs)\n",
      "  File \"/home/anil/.local/lib/python3.10/site-packages/sklearn/metrics/_scorer.py\", line 444, in _passthrough_scorer\n",
      "    return estimator.score(*args, **kwargs)\n",
      "  File \"/home/anil/.local/lib/python3.10/site-packages/sklearn/base.py\", line 649, in score\n",
      "    return accuracy_score(y, self.predict(X), sample_weight=sample_weight)\n",
      "  File \"/home/anil/.local/lib/python3.10/site-packages/xgboost/sklearn.py\", line 1525, in predict\n",
      "    class_probs = super().predict(\n",
      "  File \"/home/anil/.local/lib/python3.10/site-packages/xgboost/sklearn.py\", line 1114, in predict\n",
      "    predts = self.get_booster().inplace_predict(\n",
      "  File \"/home/anil/.local/lib/python3.10/site-packages/xgboost/core.py\", line 2292, in inplace_predict\n",
      "    _check_call(\n",
      "  File \"/home/anil/.local/lib/python3.10/site-packages/xgboost/core.py\", line 279, in _check_call\n",
      "    raise XGBoostError(py_str(_LIB.XGBGetLastError()))\n",
      "xgboost.core.XGBoostError: [17:02:28] ../src/c_api/c_api_utils.h:167: Invalid missing value: null\n",
      "Stack trace:\n",
      "  [bt] (0) /home/anil/.local/lib/python3.10/site-packages/xgboost/lib/libxgboost.so(+0x1395a3) [0x7f9ed7f395a3]\n",
      "  [bt] (1) /home/anil/.local/lib/python3.10/site-packages/xgboost/lib/libxgboost.so(+0x164542) [0x7f9ed7f64542]\n",
      "  [bt] (2) /home/anil/.local/lib/python3.10/site-packages/xgboost/lib/libxgboost.so(+0x142122) [0x7f9ed7f42122]\n",
      "  [bt] (3) /home/anil/.local/lib/python3.10/site-packages/xgboost/lib/libxgboost.so(XGBoosterPredictFromDense+0xe7) [0x7f9ed7f426a7]\n",
      "  [bt] (4) /lib/x86_64-linux-gnu/libffi.so.8(+0x7e2e) [0x7f9f44232e2e]\n",
      "  [bt] (5) /lib/x86_64-linux-gnu/libffi.so.8(+0x4493) [0x7f9f4422f493]\n",
      "  [bt] (6) /usr/lib/python3.10/lib-dynload/_ctypes.cpython-310-x86_64-linux-gnu.so(+0xa451) [0x7f9f42fc7451]\n",
      "  [bt] (7) /usr/lib/python3.10/lib-dynload/_ctypes.cpython-310-x86_64-linux-gnu.so(+0x9a68) [0x7f9f42fc6a68]\n",
      "  [bt] (8) /usr/bin/python3(_PyObject_MakeTpCall+0x25b) [0x55c9bd2704ab]\n",
      "\n",
      "\n",
      "\n",
      "  warnings.warn(\n"
     ]
    },
    {
     "name": "stdout",
     "output_type": "stream",
     "text": [
      "[17:02:28] WARNING: ../src/learner.cc:767: \n",
      "Parameters: { \"silent\" } are not used.\n",
      "\n"
     ]
    },
    {
     "name": "stderr",
     "output_type": "stream",
     "text": [
      "/home/anil/.local/lib/python3.10/site-packages/sklearn/model_selection/_validation.py:794: UserWarning: Scoring failed. The score on this train-test partition for these parameters will be set to nan. Details: \n",
      "Traceback (most recent call last):\n",
      "  File \"/home/anil/.local/lib/python3.10/site-packages/sklearn/metrics/_scorer.py\", line 117, in __call__\n",
      "    score = scorer(estimator, *args, **kwargs)\n",
      "  File \"/home/anil/.local/lib/python3.10/site-packages/sklearn/metrics/_scorer.py\", line 444, in _passthrough_scorer\n",
      "    return estimator.score(*args, **kwargs)\n",
      "  File \"/home/anil/.local/lib/python3.10/site-packages/sklearn/base.py\", line 649, in score\n",
      "    return accuracy_score(y, self.predict(X), sample_weight=sample_weight)\n",
      "  File \"/home/anil/.local/lib/python3.10/site-packages/xgboost/sklearn.py\", line 1525, in predict\n",
      "    class_probs = super().predict(\n",
      "  File \"/home/anil/.local/lib/python3.10/site-packages/xgboost/sklearn.py\", line 1114, in predict\n",
      "    predts = self.get_booster().inplace_predict(\n",
      "  File \"/home/anil/.local/lib/python3.10/site-packages/xgboost/core.py\", line 2292, in inplace_predict\n",
      "    _check_call(\n",
      "  File \"/home/anil/.local/lib/python3.10/site-packages/xgboost/core.py\", line 279, in _check_call\n",
      "    raise XGBoostError(py_str(_LIB.XGBGetLastError()))\n",
      "xgboost.core.XGBoostError: [17:02:29] ../src/c_api/c_api_utils.h:167: Invalid missing value: null\n",
      "Stack trace:\n",
      "  [bt] (0) /home/anil/.local/lib/python3.10/site-packages/xgboost/lib/libxgboost.so(+0x1395a3) [0x7f9ed7f395a3]\n",
      "  [bt] (1) /home/anil/.local/lib/python3.10/site-packages/xgboost/lib/libxgboost.so(+0x164542) [0x7f9ed7f64542]\n",
      "  [bt] (2) /home/anil/.local/lib/python3.10/site-packages/xgboost/lib/libxgboost.so(+0x142122) [0x7f9ed7f42122]\n",
      "  [bt] (3) /home/anil/.local/lib/python3.10/site-packages/xgboost/lib/libxgboost.so(XGBoosterPredictFromDense+0xe7) [0x7f9ed7f426a7]\n",
      "  [bt] (4) /lib/x86_64-linux-gnu/libffi.so.8(+0x7e2e) [0x7f9f44232e2e]\n",
      "  [bt] (5) /lib/x86_64-linux-gnu/libffi.so.8(+0x4493) [0x7f9f4422f493]\n",
      "  [bt] (6) /usr/lib/python3.10/lib-dynload/_ctypes.cpython-310-x86_64-linux-gnu.so(+0xa451) [0x7f9f42fc7451]\n",
      "  [bt] (7) /usr/lib/python3.10/lib-dynload/_ctypes.cpython-310-x86_64-linux-gnu.so(+0x9a68) [0x7f9f42fc6a68]\n",
      "  [bt] (8) /usr/bin/python3(_PyObject_MakeTpCall+0x25b) [0x55c9bd2704ab]\n",
      "\n",
      "\n",
      "\n",
      "  warnings.warn(\n"
     ]
    },
    {
     "name": "stdout",
     "output_type": "stream",
     "text": [
      "[17:02:29] WARNING: ../src/learner.cc:767: \n",
      "Parameters: { \"silent\" } are not used.\n",
      "\n"
     ]
    },
    {
     "name": "stderr",
     "output_type": "stream",
     "text": [
      "/home/anil/.local/lib/python3.10/site-packages/sklearn/model_selection/_validation.py:794: UserWarning: Scoring failed. The score on this train-test partition for these parameters will be set to nan. Details: \n",
      "Traceback (most recent call last):\n",
      "  File \"/home/anil/.local/lib/python3.10/site-packages/sklearn/metrics/_scorer.py\", line 117, in __call__\n",
      "    score = scorer(estimator, *args, **kwargs)\n",
      "  File \"/home/anil/.local/lib/python3.10/site-packages/sklearn/metrics/_scorer.py\", line 444, in _passthrough_scorer\n",
      "    return estimator.score(*args, **kwargs)\n",
      "  File \"/home/anil/.local/lib/python3.10/site-packages/sklearn/base.py\", line 649, in score\n",
      "    return accuracy_score(y, self.predict(X), sample_weight=sample_weight)\n",
      "  File \"/home/anil/.local/lib/python3.10/site-packages/xgboost/sklearn.py\", line 1525, in predict\n",
      "    class_probs = super().predict(\n",
      "  File \"/home/anil/.local/lib/python3.10/site-packages/xgboost/sklearn.py\", line 1114, in predict\n",
      "    predts = self.get_booster().inplace_predict(\n",
      "  File \"/home/anil/.local/lib/python3.10/site-packages/xgboost/core.py\", line 2292, in inplace_predict\n",
      "    _check_call(\n",
      "  File \"/home/anil/.local/lib/python3.10/site-packages/xgboost/core.py\", line 279, in _check_call\n",
      "    raise XGBoostError(py_str(_LIB.XGBGetLastError()))\n",
      "xgboost.core.XGBoostError: [17:02:30] ../src/c_api/c_api_utils.h:167: Invalid missing value: null\n",
      "Stack trace:\n",
      "  [bt] (0) /home/anil/.local/lib/python3.10/site-packages/xgboost/lib/libxgboost.so(+0x1395a3) [0x7f9ed7f395a3]\n",
      "  [bt] (1) /home/anil/.local/lib/python3.10/site-packages/xgboost/lib/libxgboost.so(+0x164542) [0x7f9ed7f64542]\n",
      "  [bt] (2) /home/anil/.local/lib/python3.10/site-packages/xgboost/lib/libxgboost.so(+0x142122) [0x7f9ed7f42122]\n",
      "  [bt] (3) /home/anil/.local/lib/python3.10/site-packages/xgboost/lib/libxgboost.so(XGBoosterPredictFromDense+0xe7) [0x7f9ed7f426a7]\n",
      "  [bt] (4) /lib/x86_64-linux-gnu/libffi.so.8(+0x7e2e) [0x7f9f44232e2e]\n",
      "  [bt] (5) /lib/x86_64-linux-gnu/libffi.so.8(+0x4493) [0x7f9f4422f493]\n",
      "  [bt] (6) /usr/lib/python3.10/lib-dynload/_ctypes.cpython-310-x86_64-linux-gnu.so(+0xa451) [0x7f9f42fc7451]\n",
      "  [bt] (7) /usr/lib/python3.10/lib-dynload/_ctypes.cpython-310-x86_64-linux-gnu.so(+0x9a68) [0x7f9f42fc6a68]\n",
      "  [bt] (8) /usr/bin/python3(_PyObject_MakeTpCall+0x25b) [0x55c9bd2704ab]\n",
      "\n",
      "\n",
      "\n",
      "  warnings.warn(\n"
     ]
    },
    {
     "name": "stdout",
     "output_type": "stream",
     "text": [
      "[17:02:30] WARNING: ../src/learner.cc:767: \n",
      "Parameters: { \"silent\" } are not used.\n",
      "\n"
     ]
    },
    {
     "name": "stderr",
     "output_type": "stream",
     "text": [
      "/home/anil/.local/lib/python3.10/site-packages/sklearn/model_selection/_validation.py:794: UserWarning: Scoring failed. The score on this train-test partition for these parameters will be set to nan. Details: \n",
      "Traceback (most recent call last):\n",
      "  File \"/home/anil/.local/lib/python3.10/site-packages/sklearn/metrics/_scorer.py\", line 117, in __call__\n",
      "    score = scorer(estimator, *args, **kwargs)\n",
      "  File \"/home/anil/.local/lib/python3.10/site-packages/sklearn/metrics/_scorer.py\", line 444, in _passthrough_scorer\n",
      "    return estimator.score(*args, **kwargs)\n",
      "  File \"/home/anil/.local/lib/python3.10/site-packages/sklearn/base.py\", line 649, in score\n",
      "    return accuracy_score(y, self.predict(X), sample_weight=sample_weight)\n",
      "  File \"/home/anil/.local/lib/python3.10/site-packages/xgboost/sklearn.py\", line 1525, in predict\n",
      "    class_probs = super().predict(\n",
      "  File \"/home/anil/.local/lib/python3.10/site-packages/xgboost/sklearn.py\", line 1114, in predict\n",
      "    predts = self.get_booster().inplace_predict(\n",
      "  File \"/home/anil/.local/lib/python3.10/site-packages/xgboost/core.py\", line 2292, in inplace_predict\n",
      "    _check_call(\n",
      "  File \"/home/anil/.local/lib/python3.10/site-packages/xgboost/core.py\", line 279, in _check_call\n",
      "    raise XGBoostError(py_str(_LIB.XGBGetLastError()))\n",
      "xgboost.core.XGBoostError: [17:02:31] ../src/c_api/c_api_utils.h:167: Invalid missing value: null\n",
      "Stack trace:\n",
      "  [bt] (0) /home/anil/.local/lib/python3.10/site-packages/xgboost/lib/libxgboost.so(+0x1395a3) [0x7f9ed7f395a3]\n",
      "  [bt] (1) /home/anil/.local/lib/python3.10/site-packages/xgboost/lib/libxgboost.so(+0x164542) [0x7f9ed7f64542]\n",
      "  [bt] (2) /home/anil/.local/lib/python3.10/site-packages/xgboost/lib/libxgboost.so(+0x142122) [0x7f9ed7f42122]\n",
      "  [bt] (3) /home/anil/.local/lib/python3.10/site-packages/xgboost/lib/libxgboost.so(XGBoosterPredictFromDense+0xe7) [0x7f9ed7f426a7]\n",
      "  [bt] (4) /lib/x86_64-linux-gnu/libffi.so.8(+0x7e2e) [0x7f9f44232e2e]\n",
      "  [bt] (5) /lib/x86_64-linux-gnu/libffi.so.8(+0x4493) [0x7f9f4422f493]\n",
      "  [bt] (6) /usr/lib/python3.10/lib-dynload/_ctypes.cpython-310-x86_64-linux-gnu.so(+0xa451) [0x7f9f42fc7451]\n",
      "  [bt] (7) /usr/lib/python3.10/lib-dynload/_ctypes.cpython-310-x86_64-linux-gnu.so(+0x9a68) [0x7f9f42fc6a68]\n",
      "  [bt] (8) /usr/bin/python3(_PyObject_MakeTpCall+0x25b) [0x55c9bd2704ab]\n",
      "\n",
      "\n",
      "\n",
      "  warnings.warn(\n"
     ]
    },
    {
     "name": "stdout",
     "output_type": "stream",
     "text": [
      "[17:02:31] WARNING: ../src/learner.cc:767: \n",
      "Parameters: { \"silent\" } are not used.\n",
      "\n"
     ]
    },
    {
     "name": "stderr",
     "output_type": "stream",
     "text": [
      "/home/anil/.local/lib/python3.10/site-packages/sklearn/model_selection/_validation.py:794: UserWarning: Scoring failed. The score on this train-test partition for these parameters will be set to nan. Details: \n",
      "Traceback (most recent call last):\n",
      "  File \"/home/anil/.local/lib/python3.10/site-packages/sklearn/metrics/_scorer.py\", line 117, in __call__\n",
      "    score = scorer(estimator, *args, **kwargs)\n",
      "  File \"/home/anil/.local/lib/python3.10/site-packages/sklearn/metrics/_scorer.py\", line 444, in _passthrough_scorer\n",
      "    return estimator.score(*args, **kwargs)\n",
      "  File \"/home/anil/.local/lib/python3.10/site-packages/sklearn/base.py\", line 649, in score\n",
      "    return accuracy_score(y, self.predict(X), sample_weight=sample_weight)\n",
      "  File \"/home/anil/.local/lib/python3.10/site-packages/xgboost/sklearn.py\", line 1525, in predict\n",
      "    class_probs = super().predict(\n",
      "  File \"/home/anil/.local/lib/python3.10/site-packages/xgboost/sklearn.py\", line 1114, in predict\n",
      "    predts = self.get_booster().inplace_predict(\n",
      "  File \"/home/anil/.local/lib/python3.10/site-packages/xgboost/core.py\", line 2292, in inplace_predict\n",
      "    _check_call(\n",
      "  File \"/home/anil/.local/lib/python3.10/site-packages/xgboost/core.py\", line 279, in _check_call\n",
      "    raise XGBoostError(py_str(_LIB.XGBGetLastError()))\n",
      "xgboost.core.XGBoostError: [17:02:32] ../src/c_api/c_api_utils.h:167: Invalid missing value: null\n",
      "Stack trace:\n",
      "  [bt] (0) /home/anil/.local/lib/python3.10/site-packages/xgboost/lib/libxgboost.so(+0x1395a3) [0x7f9ed7f395a3]\n",
      "  [bt] (1) /home/anil/.local/lib/python3.10/site-packages/xgboost/lib/libxgboost.so(+0x164542) [0x7f9ed7f64542]\n",
      "  [bt] (2) /home/anil/.local/lib/python3.10/site-packages/xgboost/lib/libxgboost.so(+0x142122) [0x7f9ed7f42122]\n",
      "  [bt] (3) /home/anil/.local/lib/python3.10/site-packages/xgboost/lib/libxgboost.so(XGBoosterPredictFromDense+0xe7) [0x7f9ed7f426a7]\n",
      "  [bt] (4) /lib/x86_64-linux-gnu/libffi.so.8(+0x7e2e) [0x7f9f44232e2e]\n",
      "  [bt] (5) /lib/x86_64-linux-gnu/libffi.so.8(+0x4493) [0x7f9f4422f493]\n",
      "  [bt] (6) /usr/lib/python3.10/lib-dynload/_ctypes.cpython-310-x86_64-linux-gnu.so(+0xa451) [0x7f9f42fc7451]\n",
      "  [bt] (7) /usr/lib/python3.10/lib-dynload/_ctypes.cpython-310-x86_64-linux-gnu.so(+0x9a68) [0x7f9f42fc6a68]\n",
      "  [bt] (8) /usr/bin/python3(_PyObject_MakeTpCall+0x25b) [0x55c9bd2704ab]\n",
      "\n",
      "\n",
      "\n",
      "  warnings.warn(\n"
     ]
    },
    {
     "name": "stdout",
     "output_type": "stream",
     "text": [
      "[17:02:32] WARNING: ../src/learner.cc:767: \n",
      "Parameters: { \"silent\" } are not used.\n",
      "\n"
     ]
    }
   ],
   "source": [
    "from sklearn.model_selection import cross_val_score\n",
    "score=cross_val_score(classifier,X,y,cv=10)"
   ]
  }
 ],
 "metadata": {
  "kernelspec": {
   "display_name": "Python 3 (ipykernel)",
   "language": "python",
   "name": "python3"
  },
  "language_info": {
   "codemirror_mode": {
    "name": "ipython",
    "version": 3
   },
   "file_extension": ".py",
   "mimetype": "text/x-python",
   "name": "python",
   "nbconvert_exporter": "python",
   "pygments_lexer": "ipython3",
   "version": "3.10.6"
  }
 },
 "nbformat": 4,
 "nbformat_minor": 5
}
