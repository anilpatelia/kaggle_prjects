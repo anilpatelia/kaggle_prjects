{
 "cells": [
  {
   "cell_type": "code",
   "execution_count": 2,
   "id": "2b45a9ba",
   "metadata": {},
   "outputs": [],
   "source": [
    "from keras.layers import Input, Lambda, Dense, Flatten\n",
    "from keras.models import Model\n",
    "from keras.applications.vgg19 import VGG19\n",
    "from keras.applications.vgg16 import preprocess_input\n",
    "from keras.preprocessing import image\n",
    "from keras.preprocessing import ImageDataGenerator\n",
    "from keras.models import Sequential\n",
    "import numpy as np\n",
    "from glob import glob\n",
    "import matplotlib.pyplot as plt\n",
    "\n",
    "IMAGE_SIZE = [224, 224]\n",
    "train_path = \"cell_images/Train\"\n",
    "valid_path = \"cell_images/Test\"\n",
    "\n",
    "vgg = VGG19(input_shape = IMAGE_SIZE + [3], weights = 'imagenet', include_top = False )\n",
    "\n"
   ]
  },
  {
   "cell_type": "code",
   "execution_count": null,
   "id": "7f339f56",
   "metadata": {},
   "outputs": [],
   "source": [
    "for layer in vgg.layers:\n",
    "    layer.trainable = False\n",
    "    \n",
    "folders = glob(train_path)\n",
    "x = Flatten()(vgg.output)\n"
   ]
  },
  {
   "cell_type": "code",
   "execution_count": null,
   "id": "7fc05003",
   "metadata": {},
   "outputs": [],
   "source": [
    "prediction = Dense(len(folders), activation='softmax')(x)\n",
    "\n",
    "model = Model(input=vgg.input, outputs=prediction)\n"
   ]
  },
  {
   "cell_type": "code",
   "execution_count": null,
   "id": "5bab9a35",
   "metadata": {},
   "outputs": [],
   "source": [
    "model.summary()"
   ]
  },
  {
   "cell_type": "code",
   "execution_count": null,
   "id": "0be9de13",
   "metadata": {},
   "outputs": [],
   "source": [
    "model.compile(loss='categorical_crossentropy', optimizer='adam', metrics=['accuracy'])\n",
    "\n",
    "train_datagen = ImageDataGenerator(rescale = 1./255, shear_range = .2, zoom_range=.2, horizontal_flip=True)\n",
    "test_datagen = ImageDataGenerator(rescale = 1./255)"
   ]
  },
  {
   "cell_type": "code",
   "execution_count": null,
   "id": "45f6a83d",
   "metadata": {},
   "outputs": [],
   "source": [
    "r = model.fit_generator(\n",
    "        training_set, \n",
    "        validation_data=test_set, \n",
    "        epochs=5, \n",
    "        steps_per_epochs = len(training_set),\n",
    "        validation_steps = len(test_set)\n",
    "        )"
   ]
  },
  {
   "cell_type": "code",
   "execution_count": null,
   "id": "077baaca",
   "metadata": {},
   "outputs": [],
   "source": [
    "plt.plot(r.history['loss'], label=\"train_loss\")\n",
    "plt.plot(r.history['val_loss'], label=\"val_loss\")\n",
    "\n",
    "plt.legend()\n",
    "plt.show()\n",
    "plt.savefig('Lossval_loss')"
   ]
  },
  {
   "cell_type": "code",
   "execution_count": null,
   "id": "a368c72e",
   "metadata": {},
   "outputs": [],
   "source": [
    "plt.plot(r.history['acc'], label=\"train_acc\")\n",
    "plt.plot(r.history['val_acc'], label=\"val_acc\")\n",
    "\n",
    "plt.legend()\n",
    "plt.show()\n",
    "plt.savefig('Accval_Acc')"
   ]
  }
 ],
 "metadata": {
  "kernelspec": {
   "display_name": "Python 3 (ipykernel)",
   "language": "python",
   "name": "python3"
  },
  "language_info": {
   "codemirror_mode": {
    "name": "ipython",
    "version": 3
   },
   "file_extension": ".py",
   "mimetype": "text/x-python",
   "name": "python",
   "nbconvert_exporter": "python",
   "pygments_lexer": "ipython3",
   "version": "3.10.6"
  }
 },
 "nbformat": 4,
 "nbformat_minor": 5
}
